{
  "nbformat": 4,
  "nbformat_minor": 0,
  "metadata": {
    "accelerator": "GPU",
    "colab": {
      "name": "GAN.ipynb",
      "provenance": [],
      "authorship_tag": "ABX9TyO7n0ZLkQZYcoNcvhdyASgd",
      "include_colab_link": true
    },
    "kernelspec": {
      "display_name": "Python 3",
      "name": "python3"
    }
  },
  "cells": [
    {
      "cell_type": "markdown",
      "metadata": {
        "id": "view-in-github",
        "colab_type": "text"
      },
      "source": [
        "<a href=\"https://colab.research.google.com/github/LFBBMRML/Colab_GAN/blob/Colab_Code-neueArchitekturFuerG%26D/GAN.ipynb\" target=\"_parent\"><img src=\"https://colab.research.google.com/assets/colab-badge.svg\" alt=\"Open In Colab\"/></a>"
      ]
    },
    {
      "cell_type": "code",
      "metadata": {
        "id": "IU9CGIoH84EX"
      },
      "source": [
        "%tensorflow_version 2.x\n",
        "import tensorflow as tf\n",
        "\n",
        "tf.__version__\n",
        "\n",
        "import numpy as np\n",
        "import matplotlib.pyplot as plt\n",
        "from tensorflow import keras\n",
        "from tensorflow.keras import layers\n",
        "import os\n",
        "import time\n",
        "import glob\n",
        "import imageio\n",
        "import PIL\n",
        "from IPython import display\n",
        "import cProfile\n",
        "import datetime"
      ],
      "execution_count": 1,
      "outputs": []
    },
    {
      "cell_type": "code",
      "metadata": {
        "colab": {
          "base_uri": "https://localhost:8080/",
          "height": 168
        },
        "id": "lmhCBH7rBzzo",
        "outputId": "d7d67091-4397-4c81-f50a-97bdae717950"
      },
      "source": [
        "(train_images, train_labels), (test_images,test_labels) = tf.keras.datasets.cifar10.load_data() \n",
        "\n",
        "#print(train_labels[:10])\n",
        "plt.figure(figsize=(1.5,1.5))\n",
        "plt.imshow((train_images[2]).astype('uint8'))\n",
        "plt.grid(False)\n",
        "plt.show()\n",
        "\n",
        "train_images = train_images.reshape(train_images.shape[0], 32, 32, 3).astype('float32') #4. Wert ist Dimension für Bildkanal. 1 steht für Grauwertbild. Für Farbbild müsste 3 gesetzt werden, für drei Dimensionen (Rot, Blau, Grün)\n",
        "train_images = (train_images/255) #- 127.5) / 127.5 normalization [-1,1]. Möglichkeit2: train_images/255 [0,1]\n",
        "\n",
        "#my_dpi=90\n",
        "\n",
        "#print(train_images[5])\n",
        "#print(train_labels[5])\n",
        "#print(test_images.shape)\n",
        "#print(test_labels.shape)"
      ],
      "execution_count": 2,
      "outputs": [
        {
          "output_type": "stream",
          "text": [
            "Downloading data from https://www.cs.toronto.edu/~kriz/cifar-10-python.tar.gz\n",
            "170500096/170498071 [==============================] - 3s 0us/step\n"
          ],
          "name": "stdout"
        },
        {
          "output_type": "display_data",
          "data": {
            "image/png": "[encoded data removed]",
            "text/plain": [
              "<Figure size 108x108 with 1 Axes>"
            ]
          },
          "metadata": {
            "tags": [],
            "needs_background": "light"
          }
        }
      ]
    },
    {
      "cell_type": "code",
      "metadata": {
        "id": "2C0rUqENM5_q"
      },
      "source": [
        "BUFFER_SIZE = train_images.shape[0] #Puffergröße MNIST: 60000, CIFAR: 50000\n",
        "BATCH_SIZE = 256 #Stapelgröße"
      ],
      "execution_count": 3,
      "outputs": []
    },
    {
      "cell_type": "code",
      "metadata": {
        "id": "_5bFvjKcd31w"
      },
      "source": [
        "train_dataset = tf.data.Dataset.from_tensor_slices(train_images).shuffle(BUFFER_SIZE).batch(BATCH_SIZE)"
      ],
      "execution_count": 4,
      "outputs": []
    },
    {
      "cell_type": "code",
      "metadata": {
        "id": "HicEUddOhidB"
      },
      "source": [
        "def generator_model():\n",
        "  model = tf.keras.Sequential()\n",
        "  model.add(layers.Dense(8*8*256, use_biase=False, input_shape=(100, )))   #(8*8*256, use_bias=False, input_shape=(100, )))\n",
        "  model.add(layers.BatchNormalization(momentum=0.99))      #Default: training=False \n",
        "  model.add(layers.LeakyReLU(alpha=0.2))\n",
        "\n",
        "  model.add(layers.Reshape((8, 8, 256)))\n",
        "  assert model.output_shape == (None, 8, 8, 256)          #wenn Output_Shape dem gewollten entspricht (also None, 7, 7, 256) läuft das Programm weiter. Ansonsten gibt es einfach einen AsserttionError.\n",
        "  model.add(layers.Dropout(0.5))\n",
        "\n",
        "  model.add(layers.Conv2DTranspose(128, (5, 5), strides=(1,1), padding = 'same', use_bias=False))\n",
        "  assert model.output_shape == (None, 8, 8, 128)          #Note: None is the batch size\n",
        "  model.add(layers.BatchNormalization(momentum=0.99))\n",
        "  model.add(layers.LeakyReLU(alpha=0.2))\n",
        "  \n",
        "\n",
        "  model.add(layers.Conv2DTranspose(64, (5,5), strides=(2,2), padding = 'same', use_bias=False))\n",
        "  assert model.output_shape == (None, 16, 16, 64)\n",
        "  model.add(layers.BatchNormalization(momentum=0.99))\n",
        "  model.add(layers.LeakyReLU(alpha=0.2))\n",
        "  \n",
        "  model.add(layers.Conv2DTranspose(32, (5,5), strides=(2,2), padding = 'same', use_bias = False))\n",
        "  assert model.output_shape == (None, 32, 32, 32)\n",
        "  model.add(layers.BatchNormalization(momentum=0.99))\n",
        "  model.add(layers.LeakyReLU(alpha=0.2))\n",
        "\n",
        "  model.add(layers.Conv2DTranspose(3, (5,5), strides=(1,1), padding='same', use_bias = False))\n",
        "  assert model.output_shape == (None, 32, 32, 3)\n",
        "  model.add(layers.Activation('tanh'))\n",
        "\n",
        "  #model.summary()\n",
        "  return model"
      ],
      "execution_count": 18,
      "outputs": []
    },
    {
      "cell_type": "code",
      "metadata": {
        "colab": {
          "base_uri": "https://localhost:8080/",
          "height": 284
        },
        "id": "yeZxmtWXjY8d",
        "outputId": "0a0e8ef2-1f38-4123-8492-5c67b3a6da10"
      },
      "source": [
        "generator = generator_model()\n",
        "\n",
        "noise = tf.random.normal([1, 100])\n",
        "generated_image = generator(noise, training=False)\n",
        "\n",
        "plt.imshow(generated_image[0, :, :, 0]*255) #Doku zu imshow https://matplotlib.org/3.3.2/api/_as_gen/matplotlib.pyplot.imshow.html. Hilfreich wenn anstatt einem Kanal drei Kanäle benötigt werden."
      ],
      "execution_count": 19,
      "outputs": [
        {
          "output_type": "execute_result",
          "data": {
            "text/plain": [
              "<matplotlib.image.AxesImage at 0x7f76ec048dd8>"
            ]
          },
          "metadata": {
            "tags": []
          },
          "execution_count": 19
        },
        {
          "output_type": "display_data",
          "data": {
            "image/png": "[encoded data removed]",
            "text/plain": [
              "<Figure size 432x288 with 1 Axes>"
            ]
          },
          "metadata": {
            "tags": [],
            "needs_background": "light"
          }
        }
      ]
    },
    {
      "cell_type": "code",
      "metadata": {
        "id": "iY6n3gnbkXET"
      },
      "source": [
        "def discriminator_model():\n",
        "  model = tf.keras.Sequential()\n",
        "\n",
        "  model.add(layers.Conv2D(64, (5, 5), strides=(2, 2), padding='same', input_shape=[32, 32, 3]))\n",
        "  model.add(layers.LeakyReLU(alpha=0.2)) #parameterübergabe: alpha=0.2\n",
        "  model.add(layers.Dropout(0.7))\n",
        "  \n",
        "  model.add(layers.Conv2D(128, (5, 5), strides=(2, 2), padding='same'))\n",
        "  model.add(layers.LeakyReLU(alpha=0.2))\n",
        "  model.add(layers.Dropout(0.7))\n",
        "\n",
        "  #model.add(layers.Conv2D(256, (5, 5), strides=(2, 2), padding='same'))\n",
        "  #model.add(layers.LeakyReLU(alpha=0.2))\n",
        "  #model.add(layers.Dropout(0.7))\n",
        "\n",
        "  #model.add(layers.Conv2D(512, (5, 5), strides=(2, 2), padding='same'))\n",
        "  #model.add(layers.LeakyReLU(alpha=0.2))\n",
        "  #model.add(layers.Dropout(0.7))\n",
        "\n",
        "  model.add(layers.Flatten())\n",
        "  model.add(layers.Dense(1))\n",
        "  #model.add(layers.Activation('softmax'))\n",
        "\n",
        "  #model.summary()\n",
        "  return model"
      ],
      "execution_count": 20,
      "outputs": []
    },
    {
      "cell_type": "code",
      "metadata": {
        "colab": {
          "base_uri": "https://localhost:8080/"
        },
        "id": "Ey6meUqQv57T",
        "outputId": "c89ad6cd-615f-4639-dc4c-21d736ccf5e2"
      },
      "source": [
        "discriminator = discriminator_model()\n",
        "decision = discriminator(generated_image)\n",
        "print(decision)"
      ],
      "execution_count": 21,
      "outputs": [
        {
          "output_type": "stream",
          "text": [
            "tf.Tensor([[1.]], shape=(1, 1), dtype=float32)\n"
          ],
          "name": "stdout"
        }
      ]
    },
    {
      "cell_type": "code",
      "metadata": {
        "id": "U5zpf_uRwQPG"
      },
      "source": [
        "cross_entropy = tf.keras.losses.BinaryCrossentropy(from_logits=True)"
      ],
      "execution_count": 9,
      "outputs": []
    },
    {
      "cell_type": "code",
      "metadata": {
        "id": "hYSEBWuNT7Yx"
      },
      "source": [
        "def dis_loss(real_output, fake_output):\n",
        "  real_loss = cross_entropy(tf.ones_like(real_output), real_output)\n",
        "  fake_loss = cross_entropy(tf.zeros_like(fake_output), fake_output)\n",
        "  total_loss = real_loss + fake_loss\n",
        "  return total_loss"
      ],
      "execution_count": 10,
      "outputs": []
    },
    {
      "cell_type": "code",
      "metadata": {
        "id": "Qof6LEwtUvyg"
      },
      "source": [
        "def gen_loss(fake_output):\n",
        "  loss = cross_entropy(tf.ones_like(fake_output), fake_output)\n",
        "  return loss"
      ],
      "execution_count": 11,
      "outputs": []
    },
    {
      "cell_type": "code",
      "metadata": {
        "id": "cF0tgei5VPOl"
      },
      "source": [
        "opt = tf.keras.optimizers.Adam(learning_rate=0.1, beta_1=0.9, beta_2=0.999, epsilon=1e-7)"
      ],
      "execution_count": 12,
      "outputs": []
    },
    {
      "cell_type": "code",
      "metadata": {
        "id": "Md04FKrfVltZ"
      },
      "source": [
        "EPOCHS = 200\n",
        "noise_dim = 100\n",
        "num_examples_to_generate = 4\n",
        "seed = tf.random.normal([num_examples_to_generate, noise_dim])"
      ],
      "execution_count": 13,
      "outputs": []
    },
    {
      "cell_type": "code",
      "metadata": {
        "id": "5EoZXY3aWMdd"
      },
      "source": [
        "#loss_history = []\n",
        "@tf.function #fungiert als '.compile'\n",
        "def train_step(images):\n",
        "  noise = tf.random.normal([BATCH_SIZE, noise_dim], 0.5, 0.5)\n",
        "\n",
        "  with tf.GradientTape() as gen_tape, tf.GradientTape() as disc_tape:\n",
        "    generated_image = generator(noise, training=True)\n",
        "\n",
        "    real_output = discriminator(images, training=True)\n",
        "    fake_output = discriminator(generated_image, training=True)\n",
        "\n",
        "    g_loss = gen_loss(fake_output)\n",
        "    d_loss = dis_loss(real_output, fake_output)\n",
        "\n",
        "    #loss_history.append(g_loss)\n",
        "\n",
        "  gradient_of_gen = gen_tape.gradient(g_loss, generator.trainable_variables)\n",
        "  gradient_of_dis = disc_tape.gradient(d_loss, discriminator.trainable_variables)\n",
        "\n",
        "  opt.apply_gradients(zip(gradient_of_gen, generator.trainable_variables))\n",
        "  opt.apply_gradients(zip(gradient_of_dis, discriminator.trainable_variables))\n"
      ],
      "execution_count": 14,
      "outputs": []
    },
    {
      "cell_type": "code",
      "metadata": {
        "id": "RO6OATQ2rSA3"
      },
      "source": [
        "#def diagramm_loss_D(abschnitt, verlust):\n",
        "  #x = abschnitt\n",
        "  #y = verlust\n",
        "  #plt.plot(x, y, 'g')\n",
        "  #plt.title('Discriminator')\n",
        "  #plt.xlabel('Epoche')\n",
        "  #plt.ylabel('Loss')\n",
        "  #plt.show()\n",
        "\n",
        "\n",
        "#def diagramm_loss_G(abschnitt, verlust):  #abschnitt = epoche, verlust = loss\n",
        "  #x = abschnitt\n",
        "  #y = verlust\n",
        "  #plt.plot(x, y, 'r')\n",
        "  #plt.title('Generator')\n",
        "  #plt.xlabel('Epoche')\n",
        "  #plt.ylabel('Loss')\n",
        "  #plt.show()"
      ],
      "execution_count": null,
      "outputs": []
    },
    {
      "cell_type": "code",
      "metadata": {
        "id": "iNHHqSFXicBt"
      },
      "source": [
        "def train(dataset, epochs):\n",
        "  epoche_history = []\n",
        "  ges_time = []\n",
        "  for epoch in range(epochs):\n",
        "    \n",
        "    start = time.time()\n",
        "    \n",
        "    for image_batch in dataset:\n",
        "      train_step(image_batch)\n",
        "\n",
        "    epoche_history.append('Epoche: {} Zeit {} '.format(epoch+1, time.time()-start))\n",
        "    ges_time.append(time.time()-start)\n",
        " \n",
        "  display.clear_output(wait=True) \n",
        "  generate_and_save_image(generator, epochs, seed)\n",
        "\n",
        "  for i in epoche_history:\n",
        "    print(i)\n",
        "  \n",
        "  print(\"Die gesamte Dauer beträgt: \" + str(sum(ges_time)) + \" für \" + str(EPOCHS) + \" Epochen \")"
      ],
      "execution_count": 15,
      "outputs": []
    },
    {
      "cell_type": "code",
      "metadata": {
        "id": "ZbTBEjOBxWeK"
      },
      "source": [
        "def generate_and_save_image(model, epoch, test_input):\n",
        "  predictions = generator(test_input, training=False)\n",
        "\n",
        "  fig = plt.figure(figsize=(3,3))\n",
        "  for i in range(predictions.shape[0]):\n",
        "    plt.subplot(2,2, i+1)\n",
        "    plt.imshow(predictions[i, :, :, 0] * 255)\n",
        "    plt.axis('off')\n",
        "\n",
        "  plt.show()"
      ],
      "execution_count": 22,
      "outputs": []
    },
    {
      "cell_type": "code",
      "metadata": {
        "id": "ySRLDh4syTcI"
      },
      "source": [
        "train(train_dataset, EPOCHS)"
      ],
      "execution_count": null,
      "outputs": []
    },
    {
      "cell_type": "code",
      "metadata": {
        "id": "hypQBdiayhwd"
      },
      "source": [
        ""
      ],
      "execution_count": null,
      "outputs": []
    }
  ]
}